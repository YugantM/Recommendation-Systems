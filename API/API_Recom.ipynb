{
 "cells": [
  {
   "cell_type": "code",
   "execution_count": 4,
   "metadata": {
    "collapsed": true
   },
   "outputs": [],
   "source": [
    "import os,json,MySQLdb,pandas as pd\n",
    "from flask import Flask, request, redirect, url_for, flash,send_from_directory,render_template\n",
    "from werkzeug.utils import secure_filename\n",
    "from sklearn.metrics.pairwise import cosine_similarity\n",
    "from werkzeug.utils import secure_filename"
   ]
  },
  {
   "cell_type": "code",
   "execution_count": null,
   "metadata": {},
   "outputs": [
    {
     "name": "stderr",
     "output_type": "stream",
     "text": [
      " * Running on http://127.0.0.1:5000/ (Press CTRL+C to quit)\n",
      "127.0.0.1 - - [09/Oct/2018 17:24:01] \"\u001b[33mGET / HTTP/1.1\u001b[0m\" 404 -\n",
      "127.0.0.1 - - [09/Oct/2018 17:24:12] \"\u001b[37mGET /train HTTP/1.1\u001b[0m\" 200 -\n",
      "127.0.0.1 - - [09/Oct/2018 17:24:21] \"\u001b[37mGET /result?username=5 HTTP/1.1\u001b[0m\" 200 -\n"
     ]
    }
   ],
   "source": [
    "#UPLOAD_FOLDER = 'E:\\ML_POCs\\Recommender\\API\\data'\n",
    "#ALLOWED_EXTENSIONS = set(['csv'])\n",
    "app = Flask(__name__)\n",
    "\n",
    "\n",
    "@app.route('/upload')\n",
    "def upload_file():\n",
    "    with open ('ui_recom.html')as f:\n",
    "        return f.read()\n",
    "    \n",
    "    \n",
    "@app.route('/uploader', methods = ['GET', 'POST'])\n",
    "def upload_files():\n",
    "    if request.method == 'POST':\n",
    "        f = request.files['file']\n",
    "        f.save('user_uploaded_file.csv')\n",
    "    return 'file uploaded successfully'\n",
    "\n",
    "  \n",
    "@app.route(\"/train\", methods=['GET', 'POST'])\n",
    "def train():\n",
    "    global base_threshold,user_matrix,item_matrix,u2u,i2i\n",
    "    ratings = pd.read_csv('user_uploaded_file.csv')\n",
    "    ratings.columns = [\"uId\", \"iId\", \"rating\"]\n",
    "    user_matrix = ratings.pivot(index='uId', columns='iId', values='rating')\n",
    "    #user_matrix = user_matrix.apply(lambda v: v.apply(lambda x:x if x!=0.2 else 0) )\n",
    "    suggested_items = pd.DataFrame(0,index=user_matrix.columns.tolist(),columns=['similarity'])\n",
    "    base_threshold =0.5\n",
    "    user_matrix = user_matrix.fillna(0)\n",
    "    item_matrix = user_matrix.T \n",
    "    u2u = pd.DataFrame(cosine_similarity(user_matrix),index=user_matrix.index.tolist(),columns=user_matrix.index.tolist())\n",
    "    i2i = pd.DataFrame(cosine_similarity(item_matrix),index=item_matrix.index.tolist(),columns=item_matrix.index.tolist())\n",
    "    return \"training successful\"\n",
    "\n",
    "\n",
    "# use this url to generate the results : http://localhost:5000/result?username=<user_id>\n",
    "@app.route(\"/result\")\n",
    "def result():\n",
    "    u_temp = int(request.args.get('username'))\n",
    "    threshold = base_threshold**2\n",
    "    rated_by_u_temp = item_matrix[u_temp][item_matrix[u_temp]!=0].index.tolist()\n",
    "    result = user_matrix.T.mul(u2u[u_temp]).T\n",
    "    suggested_items = result.max(axis=0)\n",
    "    suggested_items = suggested_items.drop(labels=rated_by_u_temp)\n",
    "    suggested_items = suggested_items[suggested_items>=threshold]\n",
    "    suggested_items = suggested_items.to_json(orient='index')\n",
    "    return suggested_items\n",
    "\n",
    "\n",
    "if __name__ == '__main__':\n",
    "    app.run(debug=False)"
   ]
  }
 ],
 "metadata": {
  "kernelspec": {
   "display_name": "Python 3",
   "language": "python",
   "name": "python3"
  },
  "language_info": {
   "codemirror_mode": {
    "name": "ipython",
    "version": 3
   },
   "file_extension": ".py",
   "mimetype": "text/x-python",
   "name": "python",
   "nbconvert_exporter": "python",
   "pygments_lexer": "ipython3",
   "version": "3.6.3"
  }
 },
 "nbformat": 4,
 "nbformat_minor": 2
}
