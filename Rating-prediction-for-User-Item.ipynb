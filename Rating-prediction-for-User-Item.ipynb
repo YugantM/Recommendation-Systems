{
 "cells": [
  {
   "cell_type": "code",
   "execution_count": 1,
   "metadata": {
    "collapsed": true
   },
   "outputs": [],
   "source": [
    "import pandas as pd\n",
    "import numpy as np\n",
    "import math\n",
    "from scipy import spatial"
   ]
  },
  {
   "cell_type": "code",
   "execution_count": 2,
   "metadata": {
    "collapsed": true
   },
   "outputs": [],
   "source": [
    "Ratings=pd.read_csv('ratings.csv',encoding='ISO-8859-1')\n",
    "Movies=pd.read_csv('movies.csv',encoding='ISO-8859-1')"
   ]
  },
  {
   "cell_type": "code",
   "execution_count": 3,
   "metadata": {
    "collapsed": true
   },
   "outputs": [],
   "source": [
    "# unified list of users / for this case list is of first 5000 interactions\n",
    "users=sorted(list(set(Ratings['userId'][:5000]))) \n",
    "\n",
    "# unified list of items\n",
    "items=sorted(list(set(Ratings['movieId']))) \n"
   ]
  },
  {
   "cell_type": "code",
   "execution_count": 4,
   "metadata": {
    "collapsed": true
   },
   "outputs": [],
   "source": [
    "# combined matrix of users vs items |cell values = ratings\n",
    "matrix= pd.DataFrame(0,index=users,columns=items) \n",
    "\n",
    "# u2u is for user to user similarity matrix | index = usedId, column_1 = distance\n",
    "u2u = pd.DataFrame(index=users,columns=['distance'])\n"
   ]
  },
  {
   "cell_type": "code",
   "execution_count": 5,
   "metadata": {
    "collapsed": true
   },
   "outputs": [],
   "source": [
    "for i in range(len(Ratings['userId'][:5000])):\n",
    "    matrix.loc[int(Ratings.loc[i][0]),int(Ratings.loc[i][1])]= Ratings.loc[i][2]\n"
   ]
  },
  {
   "cell_type": "code",
   "execution_count": 7,
   "metadata": {
    "collapsed": true
   },
   "outputs": [],
   "source": [
    "u_temp = 54114\n",
    "item = 7\n",
    "for i in list(u2u.index):  \n",
    "    y= (sum((matrix.loc[u_temp]-matrix.loc[i])**2)**0.5)\n",
    "    u2u.loc[i]= y if y !=0 else None"
   ]
  },
  {
   "cell_type": "code",
   "execution_count": 8,
   "metadata": {
    "collapsed": true
   },
   "outputs": [],
   "source": [
    "x=u2u.sort_values(by='distance',ascending=True)\n",
    "\n",
    "# list of users who are similar to given one\n",
    "users_to_consider=x.index.values.tolist()\n",
    "\n",
    "# removing users from the list who have distance value as None \n",
    "x['distance']=x['distance'].apply(lambda v : v if v!=None else 0)\n",
    "\n",
    "\n",
    "# updating values of matrix by introducing distance of users from the given user\n",
    "matrix = matrix.loc[users_to_consider]"
   ]
  },
  {
   "cell_type": "code",
   "execution_count": 47,
   "metadata": {},
   "outputs": [
    {
     "name": "stdout",
     "output_type": "stream",
     "text": [
      "predicted rating for item  7  is  3.6666666666666665\n"
     ]
    }
   ],
   "source": [
    "# absolute average of ratings from similar users \n",
    "rating_list = (matrix[item])[matrix[item]>0].get_values().tolist()\n",
    "print('predicted rating for item ',item,' is ',sum(rating_list)/len(rating_list))"
   ]
  }
 ],
 "metadata": {
  "kernelspec": {
   "display_name": "Python 3",
   "language": "python",
   "name": "python3"
  },
  "language_info": {
   "codemirror_mode": {
    "name": "ipython",
    "version": 3
   },
   "file_extension": ".py",
   "mimetype": "text/x-python",
   "name": "python",
   "nbconvert_exporter": "python",
   "pygments_lexer": "ipython3",
   "version": "3.6.3"
  }
 },
 "nbformat": 4,
 "nbformat_minor": 2
}
